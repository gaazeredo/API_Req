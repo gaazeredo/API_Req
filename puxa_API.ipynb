{
  "nbformat": 4,
  "nbformat_minor": 0,
  "metadata": {
    "colab": {
      "provenance": [],
      "mount_file_id": "17-3cMF5Ew6g3IBUfZBK0m1HAcGNoWpGw",
      "authorship_tag": "ABX9TyNAa9JKvmutX8F1D1BhHJki",
      "include_colab_link": true
    },
    "kernelspec": {
      "name": "python3",
      "display_name": "Python 3"
    },
    "language_info": {
      "name": "python"
    }
  },
  "cells": [
    {
      "cell_type": "markdown",
      "metadata": {
        "id": "view-in-github",
        "colab_type": "text"
      },
      "source": [
        "<a href=\"https://colab.research.google.com/github/gaazeredo/API_Req/blob/main/puxa_API.ipynb\" target=\"_parent\"><img src=\"https://colab.research.google.com/assets/colab-badge.svg\" alt=\"Open In Colab\"/></a>"
      ]
    },
    {
      "cell_type": "code",
      "execution_count": null,
      "metadata": {
        "id": "dbesvomhPTVc",
        "colab": {
          "base_uri": "https://localhost:8080/"
        },
        "outputId": "80aec7ef-bb62-42e5-c645-dbfd1cad8032"
      },
      "outputs": [
        {
          "output_type": "stream",
          "name": "stdout",
          "text": [
            "Collecting Office365-REST-Python-Client\n",
            "  Downloading Office365_REST_Python_Client-2.5.11-py3-none-any.whl.metadata (18 kB)\n",
            "Requirement already satisfied: requests in /usr/local/lib/python3.10/dist-packages (from Office365-REST-Python-Client) (2.32.3)\n",
            "Collecting msal (from Office365-REST-Python-Client)\n",
            "  Downloading msal-1.30.0-py3-none-any.whl.metadata (11 kB)\n",
            "Requirement already satisfied: pytz in /usr/local/lib/python3.10/dist-packages (from Office365-REST-Python-Client) (2024.1)\n",
            "Requirement already satisfied: typing-extensions>=4.0.0 in /usr/local/lib/python3.10/dist-packages (from Office365-REST-Python-Client) (4.12.2)\n",
            "Requirement already satisfied: PyJWT<3,>=1.0.0 in /usr/local/lib/python3.10/dist-packages (from PyJWT[crypto]<3,>=1.0.0->msal->Office365-REST-Python-Client) (2.9.0)\n",
            "Requirement already satisfied: cryptography<45,>=2.5 in /usr/local/lib/python3.10/dist-packages (from msal->Office365-REST-Python-Client) (42.0.8)\n",
            "Requirement already satisfied: charset-normalizer<4,>=2 in /usr/local/lib/python3.10/dist-packages (from requests->Office365-REST-Python-Client) (3.3.2)\n",
            "Requirement already satisfied: idna<4,>=2.5 in /usr/local/lib/python3.10/dist-packages (from requests->Office365-REST-Python-Client) (3.7)\n",
            "Requirement already satisfied: urllib3<3,>=1.21.1 in /usr/local/lib/python3.10/dist-packages (from requests->Office365-REST-Python-Client) (2.0.7)\n",
            "Requirement already satisfied: certifi>=2017.4.17 in /usr/local/lib/python3.10/dist-packages (from requests->Office365-REST-Python-Client) (2024.7.4)\n",
            "Requirement already satisfied: cffi>=1.12 in /usr/local/lib/python3.10/dist-packages (from cryptography<45,>=2.5->msal->Office365-REST-Python-Client) (1.17.0)\n",
            "Requirement already satisfied: pycparser in /usr/local/lib/python3.10/dist-packages (from cffi>=1.12->cryptography<45,>=2.5->msal->Office365-REST-Python-Client) (2.22)\n",
            "Downloading Office365_REST_Python_Client-2.5.11-py3-none-any.whl (1.2 MB)\n",
            "\u001b[2K   \u001b[90m━━━━━━━━━━━━━━━━━━━━━━━━━━━━━━━━━━━━━━━━\u001b[0m \u001b[32m1.2/1.2 MB\u001b[0m \u001b[31m22.5 MB/s\u001b[0m eta \u001b[36m0:00:00\u001b[0m\n",
            "\u001b[?25hDownloading msal-1.30.0-py3-none-any.whl (111 kB)\n",
            "\u001b[2K   \u001b[90m━━━━━━━━━━━━━━━━━━━━━━━━━━━━━━━━━━━━━━━━\u001b[0m \u001b[32m111.8/111.8 kB\u001b[0m \u001b[31m9.0 MB/s\u001b[0m eta \u001b[36m0:00:00\u001b[0m\n",
            "\u001b[?25hInstalling collected packages: msal, Office365-REST-Python-Client\n",
            "Successfully installed Office365-REST-Python-Client-2.5.11 msal-1.30.0\n"
          ]
        }
      ],
      "source": [
        "import requests\n",
        "import pandas as pd\n",
        "from google.colab import files"
      ]
    },
    {
      "cell_type": "code",
      "source": [
        "#https://dadosabertos.bcb.gov.br/dataset?res_format=API\n",
        "#https://dadosabertos.bcb.gov.br/dataset/pix\n",
        "#https://dadosabertos.bcb.gov.br/dataset/dinheiro-em-circulao"
      ],
      "metadata": {
        "id": "C42m3b3sssE8"
      },
      "execution_count": null,
      "outputs": []
    },
    {
      "cell_type": "code",
      "source": [
        "url_api_pix = \"https://olinda.bcb.gov.br/olinda/servico/Pix_DadosAbertos/versao/v1/odata/TransacoesPixPorMunicipio(DataBase=@DataBase)?@DataBase='202011'&$orderby=AnoMes%20asc&$format=json\"\n",
        "url_api_circulacao = \"https://olinda.bcb.gov.br/olinda/servico/mecir_dinheiro_em_circulacao/versao/v1/odata/informacoes_diarias?$orderby=Data%20desc&$format=json\""
      ],
      "metadata": {
        "id": "8dryXc5FPvIR"
      },
      "execution_count": null,
      "outputs": []
    },
    {
      "cell_type": "code",
      "source": [
        "requisicao = requests.get(url_api_circulacao)\n",
        "informacoes = requisicao.json()\n",
        "df_circulacao = pd.DataFrame(informacoes['value'])\n",
        "df_circulacao['Data'] = pd.to_datetime(df_circulacao['Data'])\n",
        "df_circulacao['Denominacao'] = pd.to_numeric(df_circulacao['Denominacao'])"
      ],
      "metadata": {
        "id": "KOxA2XZDsrpl"
      },
      "execution_count": null,
      "outputs": []
    },
    {
      "cell_type": "code",
      "source": [
        "excel_file = '/content/drive/MyDrive/TG/Colab Notebooks/circulacao_moeda.xlsx'\n",
        "excel_file = (r'C:\\Users\\Gabriel\\OneDrive - Universidade Federal do ABC\\TG\\Pix.xlsx')\n",
        "df_circulacao.to_excel(excel_file, index=False)"
      ],
      "metadata": {
        "id": "BzCG0V94wQY6"
      },
      "execution_count": null,
      "outputs": []
    },
    {
      "cell_type": "code",
      "source": [
        "requisicao = requests.get(url_api_pix)\n",
        "informacoes = requisicao.json()\n",
        "df_pix = pd.DataFrame(informacoes['value'])"
      ],
      "metadata": {
        "id": "jxBcvsy7i88L"
      },
      "execution_count": null,
      "outputs": []
    },
    {
      "cell_type": "code",
      "source": [
        "excel_file = '/content/drive/MyDrive/TG/Colab Notebooks/Pix.xlsx'\n",
        "excel_file = (r'C:\\Users\\Gabriel\\OneDrive - Universidade Federal do ABC\\TG\\Pix2.xlsx')\n",
        "df_pix.to_excel(excel_file, index=False)"
      ],
      "metadata": {
        "id": "rR2kBMqEnHor"
      },
      "execution_count": null,
      "outputs": []
    }
  ]
}