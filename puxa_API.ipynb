{
  "nbformat": 4,
  "nbformat_minor": 0,
  "metadata": {
    "colab": {
      "provenance": [],
      "mount_file_id": "17-3cMF5Ew6g3IBUfZBK0m1HAcGNoWpGw",
      "authorship_tag": "ABX9TyNAa9JKvmutX8F1D1BhHJki",
      "include_colab_link": true
    },
    "kernelspec": {
      "name": "python3",
      "display_name": "Python 3"
    },
    "language_info": {
      "name": "python"
    }
  },
  "cells": [
    {
      "cell_type": "markdown",
      "metadata": {
        "id": "view-in-github",
        "colab_type": "text"
      },
      "source": [
        "<a href=\"https://colab.research.google.com/github/gaazeredo/API_Req/blob/main/puxa_API.ipynb\" target=\"_parent\"><img src=\"https://colab.research.google.com/assets/colab-badge.svg\" alt=\"Open In Colab\"/></a>"
      ]
    },
    {
      "cell_type": "code",
      "execution_count": 40,
      "metadata": {
        "id": "dbesvomhPTVc"
      },
      "outputs": [],
      "source": [
        "import requests\n",
        "import pandas as pd\n",
        "from google.colab import files"
      ]
    },
    {
      "cell_type": "code",
      "source": [
        "#https://dadosabertos.bcb.gov.br/dataset?res_format=API\n",
        "#https://dadosabertos.bcb.gov.br/dataset/pix\n",
        "#https://dadosabertos.bcb.gov.br/dataset/dinheiro-em-circulao"
      ],
      "metadata": {
        "id": "C42m3b3sssE8"
      },
      "execution_count": 41,
      "outputs": []
    },
    {
      "cell_type": "code",
      "source": [
        "url_api_pix = \"https://olinda.bcb.gov.br/olinda/servico/Pix_DadosAbertos/versao/v1/odata/TransacoesPixPorMunicipio(DataBase=@DataBase)?@DataBase='202011'&$orderby=AnoMes%20asc&$format=json\"\n",
        "url_api_circulacao = \"https://olinda.bcb.gov.br/olinda/servico/mecir_dinheiro_em_circulacao/versao/v1/odata/informacoes_diarias?$orderby=Data%20desc&$format=json\""
      ],
      "metadata": {
        "id": "8dryXc5FPvIR"
      },
      "execution_count": null,
      "outputs": []
    },
    {
      "cell_type": "code",
      "source": [
        "requisicao = requests.get(url_api_circulacao)\n",
        "informacoes = requisicao.json()\n",
        "df_circulacao = pd.DataFrame(informacoes['value'])\n",
        "df_circulacao['Data'] = pd.to_datetime(df_circulacao['Data'])\n",
        "df_circulacao['Denominacao'] = pd.to_numeric(df_circulacao['Denominacao'])"
      ],
      "metadata": {
        "id": "KOxA2XZDsrpl"
      },
      "execution_count": null,
      "outputs": []
    },
    {
      "cell_type": "code",
      "source": [
        "excel_file = '/content/drive/MyDrive/TG/Colab Notebooks/circulacao_moeda.xlsx'\n",
        "excel_file = (r'C:\\Users\\Gabriel\\OneDrive - Universidade Federal do ABC\\TG\\Pix.xlsx')\n",
        "df_circulacao.to_excel(excel_file, index=False)"
      ],
      "metadata": {
        "id": "BzCG0V94wQY6"
      },
      "execution_count": null,
      "outputs": []
    },
    {
      "cell_type": "code",
      "source": [
        "requisicao = requests.get(url_api_pix)\n",
        "informacoes = requisicao.json()\n",
        "df_pix = pd.DataFrame(informacoes['value'])"
      ],
      "metadata": {
        "id": "jxBcvsy7i88L"
      },
      "execution_count": null,
      "outputs": []
    },
    {
      "cell_type": "code",
      "source": [
        "excel_file = '/content/drive/MyDrive/TG/Colab Notebooks/Pix.xlsx'\n",
        "excel_file = (r'C:\\Users\\Gabriel\\OneDrive - Universidade Federal do ABC\\TG\\Pix2.xlsx')\n",
        "df_pix.to_excel(excel_file, index=False)"
      ],
      "metadata": {
        "id": "rR2kBMqEnHor"
      },
      "execution_count": null,
      "outputs": []
    }
  ]
}